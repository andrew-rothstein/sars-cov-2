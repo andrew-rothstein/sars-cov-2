{
 "cells": [
  {
   "cell_type": "code",
   "execution_count": null,
   "metadata": {},
   "outputs": [],
   "source": [
    "import binascii\n",
    "import gzip\n",
    "import json\n",
    "import os\n",
    "import sys\n",
    "import re\n",
    "\n",
    "from io import BytesIO\n",
    "\n",
    "import pandas as pd\n",
    "import json\n",
    "import altair as alt\n",
    "\n",
    "from altair_saver import save\n",
    "from Bio import SeqIO\n",
    "from IPython.display import HTML\n",
    "from onecodex import Api\n",
    "from onecodex.notebooks.report import set_style, title"
   ]
  },
  {
   "cell_type": "code",
   "execution_count": null,
   "metadata": {},
   "outputs": [],
   "source": [
    "ocx = Api()"
   ]
  },
  {
   "cell_type": "code",
   "execution_count": null,
   "metadata": {},
   "outputs": [],
   "source": [
    "ENVIRONMENT = os.environ.get(\"ONE_CODEX_REPORT_ENV\", \"draft\")\n",
    "\n",
    "if ENVIRONMENT == \"production\":\n",
    "    sample_uuid = os.environ[\"ONE_CODEX_SAMPLE_UUID\"]\n",
    "else:\n",
    "    sample_uuid = None\n",
    "    sample_filename = \"sample.fastq\"\n",
    "    \n",
    "sample = ocx.Samples.get(sample_uuid)    \n",
    "\n",
    "assert sample is not None, \"Sample does not exist\"\n",
    "sample_filename = sample.filename\n",
    "if not os.path.exists(sample_filename):\n",
    "    sample.download()"
   ]
  },
  {
   "cell_type": "code",
   "execution_count": null,
   "metadata": {},
   "outputs": [],
   "source": [
    "# output paths\n",
    "VARIANTS_TSV_PATH = \"variants.tsv\"\n",
    "NEXTCLADE_JSON = \"nextclade.json\"\n",
    "NEXTCLADE_TSV_PATH = \"nextclade.tsv\"\n",
    "PANGOLIN_CSV_PATH = \"pangolin.csv\"\n",
    "BAM_PATH = \"covid19.bam\"\n",
    "CONSENSUS_PATH = \"consensus.fa\"\n",
    "\n",
    "# input paths\n",
    "REFERENCE_PATH = os.environ.get(\n",
    "    \"FASTA_REFERENCE\", \"/share/nCoV-2019.reference.fasta\"\n",
    ")\n",
    "\n",
    "# default illumina + ivar pipeline\n",
    "BED_FILE_PATH = os.environ.get(\"BED_FILE_PATH\", \"/share/ARTIC-V1.bed\")\n",
    "REFERENCE_NAME = os.path.basename(REFERENCE_PATH).rstrip('.fasta')"
   ]
  },
  {
   "cell_type": "code",
   "execution_count": null,
   "metadata": {},
   "outputs": [],
   "source": [
    "if os.getenv(\"SEQUENCING_PLATFORM\") == \"Oxford Nanopore\":\n",
    "#     print(\"Using ONT ARTIC v3 pipeline to call variants\")\n",
    "    MIN_DEPTH = 50\n",
    "    !/usr/local/bin/covid19_call_variants.artic.sh {sample_filename} > variants.log 2>&1\n",
    "else:\n",
    "#     print(\"Using short-read ARTIC v1 pipeline to call variants\")\n",
    "    MIN_DEPTH = 10\n",
    "    !/usr/local/bin/covid19_call_variants.sh {REFERENCE_PATH} {sample_filename} {BED_FILE_PATH} > variants.log 2>&1"
   ]
  },
  {
   "cell_type": "code",
   "execution_count": null,
   "metadata": {},
   "outputs": [],
   "source": [
    "### Before proceeding, do QC on the consensus sequence.\n",
    "\n",
    "error_messages = []\n",
    "for record in SeqIO.parse(CONSENSUS_PATH, \"fasta\"):\n",
    "    if record.seq.count(\"N\") > 20000:\n",
    "        error_messages.append(\"The consensus sequence has too many ambiguous bases: \" + str(record.seq.count(\"N\")) + \" N's against the 29,903 base reference sequence.\")\n",
    "    runs = re.split(r\"[^ATGC]\", str(record.seq)) # Split contig into unambiguous stretches\n",
    "    max_len = len(max(runs, key=len)) # Length of longest unambiguous stretch\n",
    "    if max_len < 10000:\n",
    "        error_messages.append(\"The consensus sequence is too incomplete for GISAID submission: the longest stretch of unambiguous bases is only \" + str(max_len) + \" bases (must be over 10,000).\")\n",
    "\n",
    "error_dict = {\"msg\": \" \".join(error_messages)}"
   ]
  },
  {
   "cell_type": "code",
   "execution_count": null,
   "metadata": {},
   "outputs": [],
   "source": [
    "# post-process variants\n",
    "!post_process_variants.sh consensus.fa > variants.log 2>&1"
   ]
  },
  {
   "cell_type": "code",
   "execution_count": null,
   "metadata": {},
   "outputs": [],
   "source": [
    "# load reference genome\n",
    "reference = list(SeqIO.parse(REFERENCE_PATH, \"fasta\"))\n",
    "reference_length = len(reference[0])"
   ]
  },
  {
   "cell_type": "code",
   "execution_count": null,
   "metadata": {},
   "outputs": [],
   "source": [
    "!samtools depth $BAM_PATH > snps.depth 2> /dev/null"
   ]
  },
  {
   "cell_type": "code",
   "execution_count": null,
   "metadata": {},
   "outputs": [],
   "source": [
    "n_reads = sample.primary_classification.results()[\"n_reads\"]"
   ]
  },
  {
   "cell_type": "code",
   "execution_count": null,
   "metadata": {},
   "outputs": [],
   "source": [
    "samtools_view_output = !samtools view -F 2308 $BAM_PATH | wc -l\n",
    "n_mapped_reads = int(samtools_view_output[0])\n",
    "proportion_mapped_reads = n_mapped_reads / n_reads"
   ]
  },
  {
   "cell_type": "code",
   "execution_count": null,
   "metadata": {},
   "outputs": [],
   "source": [
    "depth_table = []\n",
    "\n",
    "with open(\"snps.depth\") as handle:\n",
    "    for line in handle:\n",
    "        row = line.strip().split(\"\\t\")\n",
    "        depth_table.append(\n",
    "            {\"reference\": row[0], \"position\": int(row[1]), \"depth\": int(row[2])}\n",
    "        )\n",
    "depth_table = pd.DataFrame(depth_table, columns=[\"reference\", \"position\", \"depth\"])"
   ]
  },
  {
   "cell_type": "code",
   "execution_count": null,
   "metadata": {},
   "outputs": [],
   "source": [
    "# Calculate genome coverage (what percent of bases are coveraged at X coverage)\n",
    "# Use a fixed reference length that we use for `samtools depth` above\n",
    "\n",
    "covered_sites = set()\n",
    "covered_sites_mindepth = set()\n",
    "\n",
    "for _, row in depth_table.iterrows():\n",
    "    row = row.to_dict()\n",
    "    if row[\"depth\"] >= 1:\n",
    "        covered_sites.add(row[\"position\"])\n",
    "    if row[\"depth\"] >= MIN_DEPTH:\n",
    "        covered_sites_mindepth.add(row[\"position\"])        \n",
    "\n",
    "cov = len(covered_sites) / reference_length\n",
    "if cov <= 0.9:\n",
    "    error_messages.append(\"The consensus sequence is too incomplete for GISAID submission (reads must span >90% of the reference).\")\n",
    "cov_mindepth = len(covered_sites_mindepth) / reference_length"
   ]
  },
  {
   "cell_type": "code",
   "execution_count": null,
   "metadata": {},
   "outputs": [],
   "source": [
    "# get mean over windows because altair can't handle > 5k points ...\n",
    "binned_depths = []\n",
    "window_width = reference_length // 4500\n",
    "\n",
    "for i in range(1, reference_length, window_width):\n",
    "    window = depth_table.loc[\n",
    "        (depth_table[\"position\"] > i) & (depth_table[\"position\"] < i + window_width)\n",
    "    ]\n",
    "\n",
    "    binned_depths.append(\n",
    "        {\"position\": i, \"depth\": window[\"depth\"].mean(),}\n",
    "    )\n",
    "\n",
    "binned_depths = pd.DataFrame(binned_depths)\n",
    "# Convert position from bp to kbp, to improve how the coverage plot looks\n",
    "binned_depths[\"position\"] = binned_depths[\"position\"]/1000\n",
    "mean_depth = depth_table[\"depth\"].mean() if not depth_table.empty else 0\n",
    "median_depth = depth_table[\"depth\"].median() if not depth_table.empty else 0"
   ]
  },
  {
   "cell_type": "code",
   "execution_count": null,
   "metadata": {},
   "outputs": [],
   "source": [
    "# Read Nextclade and Pangolin tables\n",
    "\n",
    "# Don't need to read table; can get all info from Nextclade json\n",
    "#nextclade_table = pd.read_csv(NEXTCLADE_TSV_PATH, sep=\"\\t\")\n",
    "pangolin_table = pd.read_csv(PANGOLIN_CSV_PATH, sep=\",\")\n",
    "\n",
    "# Add to results.json"
   ]
  },
  {
   "cell_type": "code",
   "execution_count": null,
   "metadata": {},
   "outputs": [],
   "source": [
    "# Read nextclade JSON\n",
    "##### Please note that everything in the Nextclade JSON (nt positions, ranges, codon positions) is 0-indexed,\n",
    "##### but SARS-CoV-2 variants (and most things) are reported as 1-indexed.\n",
    "\n",
    "with open(NEXTCLADE_JSON) as json_file:\n",
    "    nextclade_json = json.load(json_file)\n",
    "    assert len(nextclade_json) == 1, f\"expected exactly 1 result in: {nextclade_json}\"\n",
    "    nextclade_json = nextclade_json[0]"
   ]
  },
  {
   "cell_type": "code",
   "execution_count": null,
   "metadata": {},
   "outputs": [],
   "source": [
    "# Generate warnings if indels are detected? (ONT does not reliably detect these)\n",
    "warnings = []\n",
    "if nextclade_json['insertions'] != []:\n",
    "    warnings.append('Insertions are detected.')\n",
    "if nextclade_json['deletions'] != []:\n",
    "    warnings.append('Deletions are detected.')\n",
    "if warnings != []:\n",
    "    for warning in warnings:\n",
    "        display(warning)"
   ]
  },
  {
   "cell_type": "code",
   "execution_count": null,
   "metadata": {},
   "outputs": [],
   "source": [
    "!grep -v \"^#\" variants.vcf > variants.vcf.noheaders\n",
    "\n",
    "if os.path.getsize(\"variants.vcf.noheaders\") == 0: # If there are no variants\n",
    "    n_snps = 0\n",
    "    n_snps_mindepth = 0\n",
    "    variant_table = pd.DataFrame()\n",
    "else: # If there are variants, generate a variants table\n",
    "    rows_list = []\n",
    "    for subst in nextclade_json['substitutions']: # Each substitution is a dictionary\n",
    "        dict1 = {}\n",
    "        dict1['Position'] = subst['pos'] + 1 # JSON positions are 0-indexed; convert to 1-index\n",
    "        dict1['Ref'] = subst['refNuc']\n",
    "        dict1['Alt'] = subst['queryNuc']\n",
    "        if len(subst['aaSubstitutions']) != 0:\n",
    "            for mutation in subst['aaSubstitutions']: # JSON codons are 0-indexed; convert to 1-index\n",
    "                dict1['Amino acid mutation'] = mutation['refAA'] + str(mutation['codon']+1) + mutation['queryAA']\n",
    "        else:\n",
    "            dict1['Amino acid mutation'] = ''\n",
    "        rows_list.append(dict1)\n",
    "\n",
    "    variant_table = pd.DataFrame(rows_list)\n",
    "    \n",
    "    # Add in gene info\n",
    "    df_orfs = pd.read_csv(\"./annot_table.orfs.txt\", \\\n",
    "        sep=\"\\t\", \\\n",
    "        header=None, \\\n",
    "        usecols=[0, 1, 2], \\\n",
    "        names=[\"gene\", \"start\", \"stop\"])\n",
    "\n",
    "    for i in variant_table.index:\n",
    "        for j in df_orfs.index:\n",
    "            if df_orfs.loc[j, \"start\"] <= variant_table.loc[i, \"Position\"] <= df_orfs.loc[j, \"stop\"]:\n",
    "                variant_table.loc[i, \"Gene\"] = df_orfs.loc[j, \"gene\"]\n",
    "                \n",
    "    # Add in depth info\n",
    "    variant_table = variant_table.set_index('Position')\n",
    "    df_vcf = pd.read_csv(\"variants.vcf.noheaders\", \\\n",
    "                         sep='\\t', \\\n",
    "                         usecols=[1,7], \\\n",
    "                         names=['position','info'], \\\n",
    "                         index_col=['position']\\\n",
    "                        )\n",
    "\n",
    "    sr = [ [ int(n) for n in x[1].split(';')[0].split(',') ] for x in df_vcf['info'].str.rsplit(\";SR=\") ] \n",
    "    assert { len(x) for x in sr } == {4}\n",
    "    df_vcf['Ref depth'] = [ sum(n[:2]) for n in sr ] \n",
    "    df_vcf['Alt depth'] = [ sum(n[2:]) for n in sr ]\n",
    "    df_vcf['Total depth'] = df_vcf['Ref depth'] + df_vcf['Alt depth']\n",
    "    \n",
    "    summed = df_vcf.reset_index()[['position', 'Ref depth', 'Alt depth', 'Total depth']].groupby('position').agg(sum)\n",
    "    \n",
    "    summed['Alt frequency (%)'] = summed['Alt depth']/(summed['Alt depth'] + summed['Ref depth'])*100\n"
   ]
  },
  {
   "cell_type": "code",
   "execution_count": null,
   "metadata": {},
   "outputs": [],
   "source": [
    "pd.options.display.float_format = '{:,.2f}'.format\n",
    "combo = variant_table.merge(summed, left_index=True, right_index=True, how='left')\n",
    "\n",
    "display_table = combo.fillna('-')[['Ref','Alt','Alt depth','Total depth','Alt frequency (%)','Gene','Amino acid mutation']]"
   ]
  },
  {
   "cell_type": "code",
   "execution_count": null,
   "metadata": {},
   "outputs": [],
   "source": [
    "n_snps_mindepth = sum(combo['Total depth'] > MIN_DEPTH)"
   ]
  },
  {
   "cell_type": "code",
   "execution_count": null,
   "metadata": {},
   "outputs": [],
   "source": [
    "nextclade_pm_count = nextclade_json['qc']['privateMutations']['total']\n",
    "nextclade_lineage = nextclade_json['clade']\n",
    "\n",
    "pangolin_lineage = pangolin_table['lineage'].iloc[0]\n",
    "pangolin_version = pangolin_table['pangoLEARN_version'].iloc[0]"
   ]
  },
  {
   "cell_type": "code",
   "execution_count": null,
   "metadata": {},
   "outputs": [],
   "source": [
    "title(\"SARS-CoV-2 (COVID-19) Sequencing Overview\")"
   ]
  },
  {
   "cell_type": "code",
   "execution_count": null,
   "metadata": {},
   "outputs": [],
   "source": [
    "text = f\"\"\"\n",
    "This report summarizes the detection of SARS-CoV-2 single-nucleotide variants (SNVs) in sample \n",
    "<strong>{sample_filename}</strong>.\n",
    "\n",
    "<p>A minimum depth of 50x was chosen for confident SNV detection based on <a href=\"https://doi.org/10.1038/s41467-020-20075-6\">benchmarking</a> of SARS-CoV-2 sequencing data generated with ARTIC network amplicon protocols and ONT sequencing. This benchmarking study also concludes that ONT sequencing is unsuitable for detection of small indel varants, which we do no report here.\n",
    "\n",
    "<p>This sample contained <strong>{n_reads:,}</strong> reads, with\n",
    "<strong>{proportion_mapped_reads:.1%}</strong> mapping to the \n",
    "<a href='https://www.ncbi.nlm.nih.gov/nuccore/MN908947.3/' target='_blank'>Wuhan-Hu-1 reference</a>.\n",
    "Reads span <strong>{cov:.0%}</strong> of the genome, with a mean depth of <strong>{mean_depth:.0f}x</strong>, and {cov_mindepth:.0%} of the genome covered at depths >{MIN_DEPTH:}x.</p>\n",
    "\n",
    "<p>A total of <strong>{n_snps_mindepth}</strong> variant{'s were' if n_snps_mindepth != 1 else 'was'} detected at depths >{MIN_DEPTH:}x.\n",
    "This genome is classified as Pangolin lineage <strong>{pangolin_lineage}</strong> using PangoLEARN version {pangolin_version} and Nextclade lineage <strong>{nextclade_lineage}</strong> with {nextclade_pm_count} private mutation{'s' if nextclade_pm_count != 1 else ''}.</p>\"\"\"\n",
    "\n",
    "HTML(text)"
   ]
  },
  {
   "cell_type": "code",
   "execution_count": null,
   "metadata": {},
   "outputs": [],
   "source": [
    "# Coverage plot\n",
    "reference_length_kb = reference_length // 1000\n",
    "\n",
    "plot = (\n",
    "    alt.Chart(binned_depths)\n",
    "    .mark_area()\n",
    "    .transform_window(rolling_mean=\"mean(depth)\", frame=[-50, 50])\n",
    "    .encode(\n",
    "        x=alt.X(\n",
    "            \"position\",\n",
    "            title=\"Genomic Coordinate (kb)\",\n",
    "            scale=alt.Scale(domain=[0, reference_length_kb]),\n",
    "        ),\n",
    "        y=alt.Y(\"rolling_mean:Q\", scale=alt.Scale(type=\"linear\"), title=\"Depth\"),\n",
    "    )\n",
    "    .properties(\n",
    "        title=f\"SARS-CoV-2 ({REFERENCE_NAME})\",\n",
    "        width=550,\n",
    "        height=150,\n",
    "    )\n",
    ")\n",
    "plot"
   ]
  },
  {
   "cell_type": "code",
   "execution_count": null,
   "metadata": {},
   "outputs": [],
   "source": [
    "display(display_table)"
   ]
  },
  {
   "cell_type": "code",
   "execution_count": null,
   "metadata": {},
   "outputs": [],
   "source": [
    "if os.path.getsize(\"variants.vcf.noheaders\") != 0: # If there are variants\n",
    "    HTML(variant_table[combo['Total depth'] > MIN_DEPTH].to_html(index=False))\n",
    "    legend_text = \"SARS-CoV-2 variants.\"\n",
    "\n",
    "    n_extra_variants = (\n",
    "        sum(combo[\"Total depth\"] > MIN_DEPTH) if not variant_table.empty else 0\n",
    "    )\n",
    "\n",
    "    if n_extra_variants > 0:\n",
    "        legend_text += f\" An additional {n_extra_variants} variant{'s' if n_extra_variants > 1 else ''} <{MIN_DEPTH}× depth {'are' if n_extra_variants > 1 else 'is'} not shown.\"\n",
    "\n",
    "\n",
    "    if os.environ.get(\"ONE_CODEX_REPORT_UUID\"):\n",
    "        legend_text += f\"\"\" \n",
    "             A variants TSV and consensus FASTA is available <a target=\"_blank\" href=\\\"{'https://app.onecodex.com/report/' + os.environ['ONE_CODEX_REPORT_UUID'] + '/files'}\\\">here</a>.\n",
    "            \"\"\"\n",
    "    HTML(\n",
    "        '<div style=\"text-align: center; padding-top: 10px; font-size: 0.7em; color: #777;\"><em>'\n",
    "        + legend_text\n",
    "        + \"</em></div>\"\n",
    "    )"
   ]
  },
  {
   "cell_type": "markdown",
   "metadata": {},
   "source": [
    "### Additional Resources\n",
    "\n",
    "- Additional bioinformatics pipeline details are [available on GitHub](https://github.com/onecodex/sars-cov-2)\n",
    "- [Nextstrain](https://nextstrain.org/ncov) maintains an up-to-date analysis of SARS-CoV-2 (HCoV-19).\n",
    "- The [Global Initiative on Sharing All Influenza Data (GISAID)](https://www.gisaid.org/) hosts viral genomes from ongoing outbreaks. Please [contact us](mailto:hello@onecodex.com) for help submitting your data."
   ]
  },
  {
   "cell_type": "code",
   "execution_count": null,
   "metadata": {},
   "outputs": [],
   "source": [
    "# Add One Codex report ID to footer for reproducibility/data provenance (not yet in v0.7.2)\n",
    "HTML(\n",
    "    f\"\"\"\n",
    "<style type='text/css'>\n",
    "@page {{\n",
    "    @bottom-center {{\n",
    "        content: \"{os.environ['ONE_CODEX_REPORT_UUID'] + ' -' if os.environ.get('ONE_CODEX_REPORT_UUID') else ''} NOT FOR DIAGNOSTIC USE\" !important;\n",
    "    }}\n",
    "}}\n",
    "</style>\n",
    "\"\"\"\n",
    ")"
   ]
  },
  {
   "cell_type": "code",
   "execution_count": null,
   "metadata": {},
   "outputs": [],
   "source": [
    "# Save a JSON too, including filtered variants <50x\n",
    "results = {\n",
    "    \"n_reads\": n_reads,\n",
    "    \"n_mapped_reads\": n_mapped_reads,\n",
    "    \"report_id\": os.environ.get(\"ONE_CODEX_REPORT_UUID\"), \n",
    "    \"sample_id\": os.environ.get(\"ONE_CODEX_SAMPLE_UUID\"),\n",
    "    \"variants\": combo.to_dict(orient='records'),\n",
    "    \"coverage\": cov,\n",
    "    \"coverage_over_50x\": cov_mindepth,\n",
    "    \"mean_depth\": mean_depth,\n",
    "    \"median_depth\": median_depth,\n",
    "    \"nextclade_results\": nextclade_json,\n",
    "    \"variant_table\": variant_table.to_dict(orient=\"records\"),\n",
    "    \"warnings\": warnings\n",
    "}\n",
    "\n",
    "with gzip.open(f\"{sample.filename}.report.json.gz\", \"w\") as f:\n",
    "    f.write(json.dumps(results).encode())\n",
    "\n",
    "if len(error_messages) > 0:\n",
    "    with open(\"error.json\", \"w\") as handle:\n",
    "        json.dump(error_dict, handle)"
   ]
  },
  {
   "cell_type": "code",
   "execution_count": null,
   "metadata": {},
   "outputs": [],
   "source": [
    "# Clean up files\n",
    "!rm -f {sample.filename} snps.depth variants.log covid19.bam.bai"
   ]
  }
 ],
 "metadata": {
  "kernelspec": {
   "display_name": "Python 3",
   "language": "python",
   "name": "python3"
  },
  "language_info": {
   "codemirror_mode": {
    "name": "ipython",
    "version": 3
   },
   "file_extension": ".py",
   "mimetype": "text/x-python",
   "name": "python",
   "nbconvert_exporter": "python",
   "pygments_lexer": "ipython3",
   "version": "3.9.2"
  }
 },
 "nbformat": 4,
 "nbformat_minor": 2
}
